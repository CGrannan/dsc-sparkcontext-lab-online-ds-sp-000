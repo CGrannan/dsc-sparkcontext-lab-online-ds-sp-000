{
  "nbformat": 4,
  "nbformat_minor": 0,
  "metadata": {
    "kernelspec": {
      "display_name": "Python 3",
      "language": "python",
      "name": "python3"
    },
    "language_info": {
      "codemirror_mode": {
        "name": "ipython",
        "version": 3
      },
      "file_extension": ".py",
      "mimetype": "text/x-python",
      "name": "python",
      "nbconvert_exporter": "python",
      "pygments_lexer": "ipython3",
      "version": "3.6.6"
    },
    "colab": {
      "name": "index.ipynb",
      "provenance": [],
      "collapsed_sections": [],
      "include_colab_link": true
    }
  },
  "cells": [
    {
      "cell_type": "markdown",
      "metadata": {
        "id": "view-in-github",
        "colab_type": "text"
      },
      "source": [
        "<a href=\"https://colab.research.google.com/github/CGrannan/dsc-sparkcontext-lab-online-ds-sp-000/blob/master/index.ipynb\" target=\"_parent\"><img src=\"https://colab.research.google.com/assets/colab-badge.svg\" alt=\"Open In Colab\"/></a>"
      ]
    },
    {
      "cell_type": "code",
      "metadata": {
        "id": "awNzU3YNNfIR",
        "colab_type": "code",
        "colab": {
          "base_uri": "https://localhost:8080/",
          "height": 357
        },
        "outputId": "ef6b722b-22f1-44f5-8d30-b41627da0c42"
      },
      "source": [
        "!apt update"
      ],
      "execution_count": 1,
      "outputs": [
        {
          "output_type": "stream",
          "text": [
            "\u001b[33m\r0% [Working]\u001b[0m\r            \rIgn:1 https://developer.download.nvidia.com/compute/cuda/repos/ubuntu1804/x86_64  InRelease\n",
            "\u001b[33m\r0% [Waiting for headers] [Waiting for headers] [Waiting for headers] [Waiting f\u001b[0m\r                                                                               \rHit:2 https://cloud.r-project.org/bin/linux/ubuntu bionic-cran35/ InRelease\n",
            "\u001b[33m\r0% [Waiting for headers] [Waiting for headers] [Waiting for headers] [Waiting f\u001b[0m\u001b[33m\r0% [2 InRelease gpgv 3,626 B] [Waiting for headers] [Waiting for headers] [Wait\u001b[0m\r                                                                               \rHit:3 http://ppa.launchpad.net/graphics-drivers/ppa/ubuntu bionic InRelease\n",
            "\u001b[33m\r0% [2 InRelease gpgv 3,626 B] [Waiting for headers] [Waiting for headers] [Wait\u001b[0m\r                                                                               \rHit:4 http://archive.ubuntu.com/ubuntu bionic InRelease\n",
            "\r                                                                               \rGet:5 http://security.ubuntu.com/ubuntu bionic-security InRelease [88.7 kB]\n",
            "\u001b[33m\r0% [2 InRelease gpgv 3,626 B] [Waiting for headers] [5 InRelease 14.2 kB/88.7 k\u001b[0m\r                                                                               \rIgn:6 https://developer.download.nvidia.com/compute/machine-learning/repos/ubuntu1804/x86_64  InRelease\n",
            "\u001b[33m\r0% [2 InRelease gpgv 3,626 B] [Waiting for headers] [5 InRelease 14.2 kB/88.7 k\u001b[0m\r                                                                               \rHit:7 https://developer.download.nvidia.com/compute/cuda/repos/ubuntu1804/x86_64  Release\n",
            "\u001b[33m\r0% [2 InRelease gpgv 3,626 B] [Waiting for headers] [5 InRelease 14.2 kB/88.7 k\u001b[0m\r                                                                               \rHit:8 https://developer.download.nvidia.com/compute/machine-learning/repos/ubuntu1804/x86_64  Release\n",
            "Get:9 http://archive.ubuntu.com/ubuntu bionic-updates InRelease [88.7 kB]\n",
            "Hit:10 http://ppa.launchpad.net/marutter/c2d4u3.5/ubuntu bionic InRelease\n",
            "Get:11 http://archive.ubuntu.com/ubuntu bionic-backports InRelease [74.6 kB]\n",
            "Get:14 http://security.ubuntu.com/ubuntu bionic-security/main amd64 Packages [1,041 kB]\n",
            "Get:15 http://archive.ubuntu.com/ubuntu bionic-updates/multiverse amd64 Packages [27.4 kB]\n",
            "Get:16 http://archive.ubuntu.com/ubuntu bionic-updates/main amd64 Packages [1,338 kB]\n",
            "Get:17 http://archive.ubuntu.com/ubuntu bionic-updates/universe amd64 Packages [1,417 kB]\n",
            "Fetched 4,075 kB in 3s (1,560 kB/s)\n",
            "Reading package lists... Done\n",
            "Building dependency tree       \n",
            "Reading state information... Done\n",
            "54 packages can be upgraded. Run 'apt list --upgradable' to see them.\n"
          ],
          "name": "stdout"
        }
      ]
    },
    {
      "cell_type": "code",
      "metadata": {
        "id": "Ab7w8JVtMyBT",
        "colab_type": "code",
        "colab": {}
      },
      "source": [
        "!apt-get install openjdk-8-jdk-headless -qq > /dev/null\n",
        "!wget -q https://downloads.apache.org/spark/spark-2.4.6/spark-2.4.6-bin-hadoop2.7.tgz\n",
        "!tar xf spark-2.4.6-bin-hadoop2.7.tgz\n",
        "!pip install -q findspark"
      ],
      "execution_count": 2,
      "outputs": []
    },
    {
      "cell_type": "code",
      "metadata": {
        "id": "T0Q-A5kNObkI",
        "colab_type": "code",
        "colab": {
          "base_uri": "https://localhost:8080/",
          "height": 51
        },
        "outputId": "9c97209c-df2f-4f2b-802c-fbbf450cf19a"
      },
      "source": [
        "!pip install pyspark"
      ],
      "execution_count": 3,
      "outputs": [
        {
          "output_type": "stream",
          "text": [
            "Requirement already satisfied: pyspark in /usr/local/lib/python3.6/dist-packages (3.0.0)\n",
            "Requirement already satisfied: py4j==0.10.9 in /usr/local/lib/python3.6/dist-packages (from pyspark) (0.10.9)\n"
          ],
          "name": "stdout"
        }
      ]
    },
    {
      "cell_type": "code",
      "metadata": {
        "id": "vntAPo_bOzKp",
        "colab_type": "code",
        "colab": {}
      },
      "source": [
        "import os\n",
        "os.environ[\"JAVA_HOME\"] = \"/usr/lib/jvm/java-8-openjdk-amd64\"\n",
        "os.environ[\"SPARK_HOME\"] = \"/content/spark-2.4.6-bin-hadoop2.7\""
      ],
      "execution_count": 4,
      "outputs": []
    },
    {
      "cell_type": "code",
      "metadata": {
        "id": "w0lc5IbzPj-j",
        "colab_type": "code",
        "colab": {}
      },
      "source": [
        "import findspark\n",
        "findspark.init()\n",
        "\n",
        "import pyspark\n",
        "sc = pyspark.SparkContext('local[*]')"
      ],
      "execution_count": 5,
      "outputs": []
    },
    {
      "cell_type": "markdown",
      "metadata": {
        "id": "sYAoPoHCMAos",
        "colab_type": "text"
      },
      "source": [
        "# Understanding `SparkContext` - Lab\n",
        "\n",
        "## Introduction\n",
        "\n",
        "The following series of PySpark lessons and labs in this section will provide you with an introduction to **Apache Spark**, the leading framework for big data processing in jupyter notebooks and PySpark, using a PySpark docker image in a standalone mode. These lessons require you to explore the spark documentation and practice methods and properties which are not directly covered in the labs. In this first lesson, we'll look at creating a spark session, called a Spark Context and explore its properties. \n",
        "\n",
        "## Objectives\n",
        "\n",
        "In this lab you will: \n",
        "\n",
        "- Describe Spark's parallelism with master and executor nodes \n",
        "- List the major properties and methods of SparkContext \n",
        "- Define a SparkContext and why it is important to a spark application \n",
        "\n",
        "\n",
        "## Cluster Resource Manager\n",
        "\n",
        "Spark comes bundled with a **Cluster Resource Manager** which divides and shares the physical resources of a cluster of machines between multiple Spark applications. Spark's **standalone cluster manager** operates in the standalone mode and allows Spark to manage its own cluster on a local machine. We will mainly use the standalone cluster manager for resource allocation in these labs. \n",
        "\n",
        "In Spark computational model, communication routinely occurs between a **driver** and **executors**. The driver has Spark jobs that it needs to run and these jobs are split into tasks that are submitted to the workers for completion. The results from these tasks are delivered back to the driver. \n",
        "\n",
        "This image, taken from the [Spark documentation](https://spark.apache.org/docs/latest/spark-standalone.html) demonstrates this process well.\n",
        "\n",
        "![](./images/cluster.png)\n",
        "\n",
        "\n",
        "The spark driver declares the transformations and actions on data and submits such requests to the **master**. \n",
        "\n",
        "> The machine on which the Spark cluster manager runs is called the **Master Node**. \n",
        "\n",
        "For our labs, this distributed arrangement will be simulated on a single machine allowing you to initialize master and worker nodes. "
      ]
    },
    {
      "cell_type": "markdown",
      "metadata": {
        "id": "s8CNbdVOMAot",
        "colab_type": "text"
      },
      "source": [
        "## `SparkContext()`\n",
        "\n",
        "In order to use Spark and its API we will need to use a **SparkContext**. SparkContext is how we are able to control what is happening in the Spark program from Python. When we run any Spark application, a driver program starts, which has the main function and your SparkContext gets initiated here. The driver program then runs the operations inside the executors on worker nodes as shown above.\n",
        "\n",
        "SparkContext uses Py4J to create a bridge between Python and Java, the language spark is built with. Even though all the code we'll be executing is in Python, Java is the code being executed underneath the hood in a JavaSparkConext. You'll see in error messages that they will frequently contain errors related specifically to Java. \n",
        "\n",
        "*Py4j provides a bridge between Python and Java. [Click here](https://www.py4j.org/) to see more details on this. Here is a visual representation of how SparkContext functions found in the [Apache documentation](https://cwiki.apache.org/confluence/display/SPARK/PySpark+Internals)* \n",
        "\n",
        "![](./images/spark_context.png)\n",
        "\n",
        "Spark applications driver program launches parallel operations on executor Java Virtual Machines (JVMs). This can occur either locally on a single machine using multiple cores to create parallel processing or across a cluster of computers that are controlled by a master computer. When running locally, \"PySparkShell\" is the driver program. The driver program contains the key instructions for the program and it determines how to best distribute datasets across the cluster and apply operations to those datasets.\n",
        "\n",
        "The key takeaways for SparkContext are listed below:\n",
        "\n",
        "- SparkContext is a client of Spark’s execution environment and it acts as the master of the Spark application \n",
        "- SparkContext sets up internal services and establishes a connection to a Spark execution environment  \n",
        "- The driver is the program that creates the SparkContext, connecting to a given Spark Master  \n",
        "\n",
        "After creation, SparkContext asks the master for some cores to use to do work. The master sets these cores aside and they are used to complete whatever operation they are assigned to do. You can visualize the setup in the figure below:\n",
        "\n",
        "<img src =\"./images/spark_master_workers.png\" width=\"280\">\n",
        "\n",
        "This image depicts the worker nodes at work. Every worker has 4 cores to work with, and the master allocates tasks to run on certain cores within each worker node."
      ]
    },
    {
      "cell_type": "markdown",
      "metadata": {
        "id": "9VepErVtMAov",
        "colab_type": "text"
      },
      "source": [
        "As stated before, a SparkContext object (usually shown as `sc`) is the main entry point for Spark functionality and can be used to create _Resilient Distributed Datasets_ (RDDs) on a cluster as we will see in our next lab.\n",
        "\n",
        "Lets start a Spark application by importing PySpark, creating a spark context as `sc` and try printing out type of `sc`. For this SparkContext, we are going to assign the `master` parameter to 'local[ * ]' to indicate that we are running this SparkContext to be parallelized on our local machine."
      ]
    },
    {
      "cell_type": "code",
      "metadata": {
        "id": "Ka4VPzVBMAov",
        "colab_type": "code",
        "colab": {}
      },
      "source": [
        "# Create a local spark context with pyspark (done above)\n",
        "# import pyspark\n",
        "# sc = pyspark.SparkContext('local[*]')"
      ],
      "execution_count": 6,
      "outputs": []
    },
    {
      "cell_type": "code",
      "metadata": {
        "id": "hwgx_A-sMAo0",
        "colab_type": "code",
        "colab": {
          "base_uri": "https://localhost:8080/",
          "height": 34
        },
        "outputId": "0c4bf037-4544-4531-c71c-d5356a52ebce"
      },
      "source": [
        "# Display the type of the Spark Context\n",
        "type(sc)\n",
        "\n",
        "# pyspark.context.SparkContext"
      ],
      "execution_count": 7,
      "outputs": [
        {
          "output_type": "execute_result",
          "data": {
            "text/plain": [
              "pyspark.context.SparkContext"
            ]
          },
          "metadata": {
            "tags": []
          },
          "execution_count": 7
        }
      ]
    },
    {
      "cell_type": "code",
      "metadata": {
        "id": "Nq-3vQdsMAo9",
        "colab_type": "code",
        "colab": {
          "base_uri": "https://localhost:8080/",
          "height": 222
        },
        "outputId": "5ed69a5c-a40d-4935-8469-6f429c80f833"
      },
      "source": [
        "# Create second spark context\n",
        "sc1 = pyspark.SparkContext('local[*]')"
      ],
      "execution_count": 8,
      "outputs": [
        {
          "output_type": "error",
          "ename": "ValueError",
          "evalue": "ignored",
          "traceback": [
            "\u001b[0;31m---------------------------------------------------------------------------\u001b[0m",
            "\u001b[0;31mValueError\u001b[0m                                Traceback (most recent call last)",
            "\u001b[0;32m<ipython-input-8-b8a3ff68a89f>\u001b[0m in \u001b[0;36m<module>\u001b[0;34m()\u001b[0m\n\u001b[1;32m      1\u001b[0m \u001b[0;31m# Create second spark context\u001b[0m\u001b[0;34m\u001b[0m\u001b[0;34m\u001b[0m\u001b[0;34m\u001b[0m\u001b[0m\n\u001b[0;32m----> 2\u001b[0;31m \u001b[0msc1\u001b[0m \u001b[0;34m=\u001b[0m \u001b[0mpyspark\u001b[0m\u001b[0;34m.\u001b[0m\u001b[0mSparkContext\u001b[0m\u001b[0;34m(\u001b[0m\u001b[0;34m'local[*]'\u001b[0m\u001b[0;34m)\u001b[0m\u001b[0;34m\u001b[0m\u001b[0;34m\u001b[0m\u001b[0m\n\u001b[0m",
            "\u001b[0;32m/content/spark-2.4.6-bin-hadoop2.7/python/pyspark/context.py\u001b[0m in \u001b[0;36m__init__\u001b[0;34m(self, master, appName, sparkHome, pyFiles, environment, batchSize, serializer, conf, gateway, jsc, profiler_cls)\u001b[0m\n\u001b[1;32m    131\u001b[0m                     \" note this option will be removed in Spark 3.0\")\n\u001b[1;32m    132\u001b[0m \u001b[0;34m\u001b[0m\u001b[0m\n\u001b[0;32m--> 133\u001b[0;31m         \u001b[0mSparkContext\u001b[0m\u001b[0;34m.\u001b[0m\u001b[0m_ensure_initialized\u001b[0m\u001b[0;34m(\u001b[0m\u001b[0mself\u001b[0m\u001b[0;34m,\u001b[0m \u001b[0mgateway\u001b[0m\u001b[0;34m=\u001b[0m\u001b[0mgateway\u001b[0m\u001b[0;34m,\u001b[0m \u001b[0mconf\u001b[0m\u001b[0;34m=\u001b[0m\u001b[0mconf\u001b[0m\u001b[0;34m)\u001b[0m\u001b[0;34m\u001b[0m\u001b[0;34m\u001b[0m\u001b[0m\n\u001b[0m\u001b[1;32m    134\u001b[0m         \u001b[0;32mtry\u001b[0m\u001b[0;34m:\u001b[0m\u001b[0;34m\u001b[0m\u001b[0;34m\u001b[0m\u001b[0m\n\u001b[1;32m    135\u001b[0m             self._do_init(master, appName, sparkHome, pyFiles, environment, batchSize, serializer,\n",
            "\u001b[0;32m/content/spark-2.4.6-bin-hadoop2.7/python/pyspark/context.py\u001b[0m in \u001b[0;36m_ensure_initialized\u001b[0;34m(cls, instance, gateway, conf)\u001b[0m\n\u001b[1;32m    330\u001b[0m                         \u001b[0;34m\" created by %s at %s:%s \"\u001b[0m\u001b[0;34m\u001b[0m\u001b[0;34m\u001b[0m\u001b[0m\n\u001b[1;32m    331\u001b[0m                         % (currentAppName, currentMaster,\n\u001b[0;32m--> 332\u001b[0;31m                             callsite.function, callsite.file, callsite.linenum))\n\u001b[0m\u001b[1;32m    333\u001b[0m                 \u001b[0;32melse\u001b[0m\u001b[0;34m:\u001b[0m\u001b[0;34m\u001b[0m\u001b[0;34m\u001b[0m\u001b[0m\n\u001b[1;32m    334\u001b[0m                     \u001b[0mSparkContext\u001b[0m\u001b[0;34m.\u001b[0m\u001b[0m_active_spark_context\u001b[0m \u001b[0;34m=\u001b[0m \u001b[0minstance\u001b[0m\u001b[0;34m\u001b[0m\u001b[0;34m\u001b[0m\u001b[0m\n",
            "\u001b[0;31mValueError\u001b[0m: Cannot run multiple SparkContexts at once; existing SparkContext(app=pyspark-shell, master=local[*]) created by __init__ at <ipython-input-5-de35c273f303>:5 "
          ]
        }
      ]
    },
    {
      "cell_type": "markdown",
      "metadata": {
        "id": "PsyO7wLrMApB",
        "colab_type": "text"
      },
      "source": [
        "As you can see, only one SparkContext can be created within a Python kernel at once!"
      ]
    },
    {
      "cell_type": "markdown",
      "metadata": {
        "id": "HleLQPVmMApB",
        "colab_type": "text"
      },
      "source": [
        "### SparkContext attributes\n",
        "\n",
        "We can use Python's `dir()` function to get a list of all the attributes (including methods) accessible through the `sc` object."
      ]
    },
    {
      "cell_type": "code",
      "metadata": {
        "scrolled": true,
        "id": "3NBXrtq6MApC",
        "colab_type": "code",
        "colab": {}
      },
      "source": [
        "# Use Python's dir(obj) to get a list of all attributes of SparkContext\n",
        "\n",
        "# Code here \n",
        "dir(sc)\n"
      ],
      "execution_count": null,
      "outputs": []
    },
    {
      "cell_type": "markdown",
      "metadata": {
        "id": "NL91VsRIMApJ",
        "colab_type": "text"
      },
      "source": [
        "Alternatively, you can use Python's `help()` function to get an easier to read list of all the attributes, including examples, that the `sc` object has."
      ]
    },
    {
      "cell_type": "code",
      "metadata": {
        "id": "cG913UyAMApK",
        "colab_type": "code",
        "colab": {}
      },
      "source": [
        "# Use Python's help ( help(object) ) function to get information on attributes and methods for sc object. \n",
        "\n",
        "\n",
        "help(sc)"
      ],
      "execution_count": null,
      "outputs": []
    },
    {
      "cell_type": "markdown",
      "metadata": {
        "id": "OFKJaY8ZMApO",
        "colab_type": "text"
      },
      "source": [
        "You should also have a look at [Spark's SparkContext Documentation Page](https://spark.apache.org/docs/0.6.0/api/core/spark/SparkContext.html) to explore these in further detail.\n",
        "\n",
        "Let's try to check a few spark context attributes including `SparkContext.version` and `SparkContext.defaultParalellism` to check the current version of Apache Spark and number of cores being used for parallel processing."
      ]
    },
    {
      "cell_type": "code",
      "metadata": {
        "id": "p_dVpJi4MApP",
        "colab_type": "code",
        "colab": {}
      },
      "source": [
        "# Check the number of cores being used\n",
        "\n",
        "print(sc.defaultParallelism)\n",
        "\n",
        "# Check for the current version of Spark\n",
        "\n",
        "print(sc.version)\n",
        "\n",
        "\n",
        "# Default number of cores being used: 2\n",
        "# Current version of Spark: 2.3.1"
      ],
      "execution_count": null,
      "outputs": []
    },
    {
      "cell_type": "markdown",
      "metadata": {
        "id": "Bhh1DJ7eMApT",
        "colab_type": "text"
      },
      "source": [
        "Let's also check the name of current application by using `SparkContext.appName` attribute. "
      ]
    },
    {
      "cell_type": "code",
      "metadata": {
        "id": "S6C1XoD1MApU",
        "colab_type": "code",
        "colab": {}
      },
      "source": [
        "# Check the name of application currently running in spark environment\n",
        "\n",
        "\n",
        "sc.appName\n",
        "\n",
        "# 'pyspark-shell'"
      ],
      "execution_count": null,
      "outputs": []
    },
    {
      "cell_type": "markdown",
      "metadata": {
        "id": "-P8cjdhqMApX",
        "colab_type": "text"
      },
      "source": [
        "We can access complete configuration settings (including all defaults) for the current spark context using `_conf.getAll()` method. "
      ]
    },
    {
      "cell_type": "code",
      "metadata": {
        "id": "QLEauyMUMApY",
        "colab_type": "code",
        "colab": {}
      },
      "source": [
        "# Get all configuration settings\n",
        "\n",
        "sc._conf.getAll()\n",
        "\n",
        "# [('spark.driver.port', '36035'),\n",
        "#  ('spark.rdd.compress', 'True'),\n",
        "#  ('spark.driver.host', '588b1d2e9e9b'),\n",
        "#  ('spark.serializer.objectStreamReset', '100'),\n",
        "#  ('spark.master', 'local[*]'),\n",
        "#  ('spark.executor.id', 'driver'),\n",
        "#  ('spark.submit.deployMode', 'client'),\n",
        "#  ('spark.ui.showConsoleProgress', 'true'),\n",
        "#  ('spark.app.name', 'pyspark-shell'),\n",
        "#  ('spark.app.id', 'local-1545010504175')]"
      ],
      "execution_count": null,
      "outputs": []
    },
    {
      "cell_type": "markdown",
      "metadata": {
        "id": "m60oRiWYMApb",
        "colab_type": "text"
      },
      "source": [
        "A SparkContext can be shut down using `SparkContext.stop()` method. Let's use this method to shut down the current spark context. "
      ]
    },
    {
      "cell_type": "code",
      "metadata": {
        "id": "nW50zsHdMApc",
        "colab_type": "code",
        "colab": {}
      },
      "source": [
        "# Shut down SparkContext\n",
        "\n",
        "sc.stop()"
      ],
      "execution_count": null,
      "outputs": []
    },
    {
      "cell_type": "markdown",
      "metadata": {
        "id": "1GkyL4ZNMApg",
        "colab_type": "text"
      },
      "source": [
        "Once shut down, you can no longer access spark functionality before starting a new SparkContext. "
      ]
    },
    {
      "cell_type": "markdown",
      "metadata": {
        "id": "149E0vbpMAph",
        "colab_type": "text"
      },
      "source": [
        "## Additional Resources\n",
        "\n",
        "- [Apache Spark Context](https://data-flair.training/blogs/learn-apache-spark-sparkcontext/)"
      ]
    },
    {
      "cell_type": "markdown",
      "metadata": {
        "id": "3eMjFFS1MApj",
        "colab_type": "text"
      },
      "source": [
        "## Summary\n",
        "\n",
        "In this short lab, we saw how SparkContext is used as an entry point to Spark applications. We learned how to start a SparkContext, how to list and use some of the attributes and methods in SparkContext and how to shut it down. Students are encouraged to explore other attributes and methods offered by the `sc` object. Some of these, namely creating and transforming datasets as RDDs will be explored in later labs. "
      ]
    }
  ]
}